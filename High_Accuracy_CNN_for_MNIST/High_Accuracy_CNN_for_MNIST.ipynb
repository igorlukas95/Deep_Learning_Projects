{
  "nbformat": 4,
  "nbformat_minor": 0,
  "metadata": {
    "colab": {
      "name": "High_Accuracy_CNN_for_MNIST.ipynb",
      "provenance": [],
      "collapsed_sections": []
    },
    "kernelspec": {
      "name": "python3",
      "display_name": "Python 3"
    },
    "language_info": {
      "name": "python"
    }
  },
  "cells": [
    {
      "cell_type": "markdown",
      "metadata": {
        "id": "V7pI8GsQbuOL"
      },
      "source": [
        "The following model uses 2 convolutional layers, followed by 1 pooling layer, then dropout 25%, then a dense layer, another dropout layer but with 50% dropout, and finally the output layer. It reaches about 99.2% accuracy on the test set. This places this model roughly in the top 20% in the [MNIST Kaggle competition](https://www.kaggle.com/c/digit-recognizer/) (if we ignore the models with an accuracy greater than 99.79% which were most likely trained on the test set, as explained by Chris Deotte in [this post](https://www.kaggle.com/c/digit-recognizer/discussion/61480)). "
      ]
    },
    {
      "cell_type": "code",
      "metadata": {
        "id": "zdQFVV12bafF"
      },
      "source": [
        "import keras\n",
        "import tensorflow as tf\n",
        "import numpy as np\n",
        "import pandas as pd"
      ],
      "execution_count": 1,
      "outputs": []
    },
    {
      "cell_type": "code",
      "metadata": {
        "id": "_ZeO56IQcFEh"
      },
      "source": [
        "(X_train_full, y_train_full), (X_test, y_test) = tf.keras.datasets.mnist.load_data()\n",
        "X_train_full = X_train_full / 255.\n",
        "X_test = X_test / 255.\n",
        "\n",
        "X_train, X_valid = X_train_full[:-5000], X_train_full[-5000:]\n",
        "y_train, y_valid = y_train_full[:-5000], y_train_full[-5000:]\n",
        "\n",
        "X_train = X_train[..., np.newaxis]\n",
        "X_valid = X_valid[..., np.newaxis]\n",
        "X_test = X_test[..., np.newaxis]"
      ],
      "execution_count": 4,
      "outputs": []
    },
    {
      "cell_type": "code",
      "metadata": {
        "colab": {
          "base_uri": "https://localhost:8080/"
        },
        "id": "FU4nY9BqcR86",
        "outputId": "ff8037a9-61f4-4be2-aa5f-f0f56b5dafe2"
      },
      "source": [
        "tf.random.set_seed(42)\n",
        "np.random.seed(42)\n",
        "\n",
        "model = keras.models.Sequential([\n",
        "    keras.layers.Conv2D(32, kernel_size=3, padding='same', activation='relu'),\n",
        "    keras.layers.Conv2D(64, kernel_size=3, padding='same', activation='relu'),\n",
        "    keras.layers.MaxPool2D(),\n",
        "    keras.layers.Flatten(),\n",
        "    keras.layers.Dropout(0.25),\n",
        "    keras.layers.Dense(128, activation='relu'),\n",
        "    keras.layers.Dropout(0.5),\n",
        "    keras.layers.Dense(10, activation='softmax')\n",
        "])\n",
        "model.compile(loss='sparse_categorical_crossentropy', optimizer='nadam',\n",
        "              metrics=['accuracy'])\n",
        "model.fit(X_train,y_train, epochs=10, validation_data=(X_valid, y_valid))\n",
        "model.evaluate(X_test,y_test)"
      ],
      "execution_count": 6,
      "outputs": [
        {
          "output_type": "stream",
          "text": [
            "Epoch 1/10\n",
            "1719/1719 [==============================] - 214s 111ms/step - loss: 0.3746 - accuracy: 0.8820 - val_loss: 0.0481 - val_accuracy: 0.9864\n",
            "Epoch 2/10\n",
            "1719/1719 [==============================] - 192s 111ms/step - loss: 0.0793 - accuracy: 0.9758 - val_loss: 0.0403 - val_accuracy: 0.9882\n",
            "Epoch 3/10\n",
            "1719/1719 [==============================] - 191s 111ms/step - loss: 0.0576 - accuracy: 0.9817 - val_loss: 0.0365 - val_accuracy: 0.9900\n",
            "Epoch 4/10\n",
            "1719/1719 [==============================] - 191s 111ms/step - loss: 0.0513 - accuracy: 0.9836 - val_loss: 0.0318 - val_accuracy: 0.9922\n",
            "Epoch 5/10\n",
            "1719/1719 [==============================] - 190s 111ms/step - loss: 0.0398 - accuracy: 0.9871 - val_loss: 0.0400 - val_accuracy: 0.9896\n",
            "Epoch 6/10\n",
            "1719/1719 [==============================] - 190s 111ms/step - loss: 0.0360 - accuracy: 0.9888 - val_loss: 0.0423 - val_accuracy: 0.9896\n",
            "Epoch 7/10\n",
            "1719/1719 [==============================] - 188s 110ms/step - loss: 0.0328 - accuracy: 0.9896 - val_loss: 0.0332 - val_accuracy: 0.9918\n",
            "Epoch 8/10\n",
            "1719/1719 [==============================] - 189s 110ms/step - loss: 0.0291 - accuracy: 0.9917 - val_loss: 0.0355 - val_accuracy: 0.9926\n",
            "Epoch 9/10\n",
            "1719/1719 [==============================] - 189s 110ms/step - loss: 0.0241 - accuracy: 0.9922 - val_loss: 0.0357 - val_accuracy: 0.9920\n",
            "Epoch 10/10\n",
            "1719/1719 [==============================] - 190s 110ms/step - loss: 0.0243 - accuracy: 0.9921 - val_loss: 0.0372 - val_accuracy: 0.9922\n",
            "313/313 [==============================] - 8s 24ms/step - loss: 0.0266 - accuracy: 0.9925\n"
          ],
          "name": "stdout"
        },
        {
          "output_type": "execute_result",
          "data": {
            "text/plain": [
              "[0.026593057438731194, 0.9925000071525574]"
            ]
          },
          "metadata": {
            "tags": []
          },
          "execution_count": 6
        }
      ]
    },
    {
      "cell_type": "code",
      "metadata": {
        "id": "SwZc2TD4dlOf"
      },
      "source": [
        ""
      ],
      "execution_count": null,
      "outputs": []
    }
  ]
}